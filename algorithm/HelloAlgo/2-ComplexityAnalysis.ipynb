{
 "cells": [
  {
   "cell_type": "markdown",
   "metadata": {},
   "source": [
    "### 2.1   Algorithm efficiency assessment\n",
    "In algorithm design, we pursue the following two objectives in sequence.\n",
    "\n",
    "1. **Finding a Solution** to the Problem: The algorithm should reliably find the correct solution within the stipulated range of inputs.\n",
    "2. Seeking the **Optimal Solution**: For the same problem, multiple solutions might exist, and we aim to find the most efficient algorithm possible.\n",
    "\n",
    "> I have encountered many issues in cryptography, particularly in finding solutions to problems using a computer. Often, I did not consider the optimal solution. By focusing on finding the optimal solution, I can improve the quality of my work.\n",
    "\n",
    "algorithm efficiency has become the main criterion for evaluating the merits of an algorithm, which includes the following two dimensions.\n",
    "\n",
    "- **Time efficiency**: The speed at which an algorithm runs.\n",
    "- **Space efficiency**: The size of the memory space occupied by an algorithm."
   ]
  },
  {
   "cell_type": "markdown",
   "metadata": {
    "vscode": {
     "languageId": "plaintext"
    }
   },
   "source": [
    "There are mainly two methods of efficiency assessment: actual testing and theoretical estimation.\n",
    "\n",
    "#### 2.1.1   Actual testing\n",
    "\n",
    "The most direct method is to use a computer to run these two algorithms and monitor and record their runtime and memory usage. On one hand, it's **difficult to eliminate interference from the testing environment**.On the other hand, **conducting a full test is very resource-intensive**.\n"
   ]
  },
  {
   "cell_type": "markdown",
   "metadata": {},
   "source": [
    "#### 2.1.2   Theoretical estimation\n",
    "\n",
    "Due to the significant limitations of actual testing, we can consider evaluating algorithm efficiency solely through calculations. This estimation method is known as **asymptotic complexity analysis**, or simply **complexity analysis**."
   ]
  },
  {
   "cell_type": "markdown",
   "metadata": {},
   "source": [
    "Complexity analysis reflects the relationship between the time and space resources required for algorithm execution and the size of the input data. It describes the *trend of growth in the time and space required by the algorithm as the size of the input data increases*.\n",
    "\n",
    "Complexity analysis overcomes the disadvantages of actual testing methods, reflected in the following aspects:\n",
    "\n",
    "- It is **independent** of the **testing environment** and applicable to all operating platforms.\n",
    "- It can reflect algorithm efficiency under **different** data **volumes**, especially in the performance of algorithms with large data volumes."
   ]
  },
  {
   "cell_type": "markdown",
   "metadata": {},
   "source": [
    "### 2.2   Iteration and recursion\n",
    "#### 2.2.1   Iteration\n",
    "**For loops** The following function uses a for loop to perform a summation $\\sum_{i=1}^ni=\\frac{n(n+1)}{2}; i,n\\in\\mathbb{Z}$, with the sum being stored in the variable `res`. It's important to note that in Python, `range(a, b)` creates an interval that is inclusive of `a` but exclusive of `b`, meaning it iterates over the range from `a` up to `b`."
   ]
  },
  {
   "cell_type": "code",
   "execution_count": 4,
   "metadata": {},
   "outputs": [
    {
     "name": "stdout",
     "output_type": "stream",
     "text": [
      "5050\n"
     ]
    }
   ],
   "source": [
    "def for_loop(n: int) -> int:\n",
    "    \"\"\"for loop\"\"\"\n",
    "    res = 0\n",
    "    # Loop sum 1, 2, ..., n-1, n\n",
    "    for i in range(1, n + 1):\n",
    "        res += i\n",
    "    return res\n",
    "\n",
    "\n",
    "# if the n = 100, the result will be 5050 = n * (n + 1) / 2\n",
    "print(for_loop(100))"
   ]
  },
  {
   "cell_type": "markdown",
   "metadata": {},
   "source": [
    "The number of operations in this summation function is proportional to the size of the input data $n$, or in other words, it has a linear relationship. This \"**linear relationship**\" is what time complexity describes. "
   ]
  },
  {
   "cell_type": "markdown",
   "metadata": {},
   "source": [
    "#### 2.2.2   Recursion\n",
    "\n",
    "Recursion is an algorithmic strategy where a function solves a problem by calling itself. It primarily involves two phases:\n",
    "\n",
    "- Calling: This is where the program repeatedly calls itself, often with progressively smaller or **simpler** arguments, moving towards the \"termination condition.\"\n",
    "- Returning: Upon triggering the \"termination condition,\" the program begins to return from the deepest recursive function, **aggregating the results** of each layer."
   ]
  },
  {
   "cell_type": "markdown",
   "metadata": {},
   "source": [
    "From an implementation perspective, recursive code mainly includes three elements.\n",
    "\n",
    "- Termination Condition: Determines when to switch from \"calling\" to \"returning.\"\n",
    "- Recursive Call: Corresponds to \"calling,\" where the function calls itself, usually with smaller or more simplified parameters.\n",
    "- Return Result: Corresponds to \"returning,\" where the result of the current recursion level is returned to the previous layer."
   ]
  },
  {
   "cell_type": "code",
   "execution_count": 5,
   "metadata": {},
   "outputs": [
    {
     "name": "stdout",
     "output_type": "stream",
     "text": [
      "5050\n"
     ]
    }
   ],
   "source": [
    "def recur(n: int) -> int:\n",
    "    \"\"\"Recursion\"\"\"\n",
    "    # Termination condition\n",
    "    if n == 1:\n",
    "        return 1\n",
    "    # Recursive: recursive call\n",
    "    res = recur(n - 1)\n",
    "    # Return: return result\n",
    "    return n + res\n",
    "\n",
    "\n",
    "print(recur(100))"
   ]
  },
  {
   "cell_type": "markdown",
   "metadata": {},
   "source": [
    "- Iteration: Solves problems \"from the bottom up.\" It starts with the most basic steps, and then repeatedly adds or accumulates these steps until the task is complete.\n",
    "- Recursion: Solves problems \"from the top down.\" It breaks down the original problem into smaller sub-problems, each of which has the same form as the original problem. These sub-problems are then further decomposed into even smaller sub-problems, stopping at the base case whose solution is known."
   ]
  },
  {
   "cell_type": "markdown",
   "metadata": {},
   "source": [
    "Interestingly, **if a function performs its recursive call as the very last step before returning**, it can be optimized by the compiler or interpreter to be as space-efficient as iteration. This scenario is known as **tail recursion**."
   ]
  },
  {
   "cell_type": "code",
   "execution_count": 7,
   "metadata": {},
   "outputs": [
    {
     "name": "stdout",
     "output_type": "stream",
     "text": [
      "5050\n"
     ]
    }
   ],
   "source": [
    "def tail_recur(n, res):\n",
    "    \"\"\"Tail recursion\"\"\"\n",
    "    # Termination condition\n",
    "    if n == 0:\n",
    "        return res\n",
    "    # Tail recursive call\n",
    "    return tail_recur(n - 1, res + n)\n",
    "\n",
    "\n",
    "print(tail_recur(100, 0))"
   ]
  },
  {
   "cell_type": "markdown",
   "metadata": {},
   "source": [
    "**Recursion tree** When dealing with algorithms related to \"divide and conquer\", recursion often offers a more intuitive approach and more readable code than iteration. Take the \"Fibonacci sequence\" as an example\n",
    " \n",
    "Let the $n$ th number of the Fibonacci sequence be $f(n)$, it's easy to deduce two conclusions:\n",
    "\n",
    "- The first two numbers of the sequence are $f(1)=0$and  $f(2)=1$.\n",
    "-  Each number in the sequence is the sum of the two preceding ones, that is, $f(n)=f(n-1)+f(n-2)$\n",
    "> like the math induction. "
   ]
  },
  {
   "cell_type": "code",
   "execution_count": 15,
   "metadata": {},
   "outputs": [
    {
     "name": "stdout",
     "output_type": "stream",
     "text": [
      "0 1 1 2 3 5 8\n"
     ]
    }
   ],
   "source": [
    "def fib(n: int) -> int:\n",
    "    \"\"\"Fibonacci sequence: Recursion\"\"\"\n",
    "    # Termination condition f(1) = 0, f(2) = 1\n",
    "    if n == 1 or n == 2:\n",
    "        return n - 1\n",
    "    # recursive call & return\n",
    "    return fib(n - 1) + fib(n - 2)\n",
    "\n",
    "\n",
    "# Test cases\n",
    "print(\n",
    "    fib(1), fib(2), fib(3), fib(4), fib(5), fib(6), fib(7)\n",
    ")  # Expected output: 0 1 1 2 3 5 8"
   ]
  },
  {
   "cell_type": "markdown",
   "metadata": {},
   "source": [
    "#### 2.2.3   Comparison\n",
    "\n",
    "Table: Comparison of Iteration and Recursion Characteristics\n",
    "\n",
    "| Characteristic     | Iteration                                | Recursion                                                                 |\n",
    "|--------------------|------------------------------------------|---------------------------------------------------------------------------|\n",
    "| Approach           | Loop structure                           | Function calls itself                                                     |\n",
    "| Time Efficiency    | Generally higher efficiency, no function call overhead | Each function call generates overhead                                     |\n",
    "| Memory Usage       | Typically uses a fixed size of memory space | Accumulative function calls can use a substantial amount of stack frame space |\n",
    "| Suitable Problems  | Suitable for simple loop tasks, intuitive and readable code | Suitable for problem decomposition, like trees, graphs, divide-and-conquer, backtracking, etc., concise and clear code structure |"
   ]
  }
 ],
 "metadata": {
  "kernelspec": {
   "display_name": "misc",
   "language": "python",
   "name": "python3"
  },
  "language_info": {
   "codemirror_mode": {
    "name": "ipython",
    "version": 3
   },
   "file_extension": ".py",
   "mimetype": "text/x-python",
   "name": "python",
   "nbconvert_exporter": "python",
   "pygments_lexer": "ipython3",
   "version": "3.11.9"
  }
 },
 "nbformat": 4,
 "nbformat_minor": 2
}
