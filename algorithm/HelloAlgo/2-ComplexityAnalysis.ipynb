{
 "cells": [
  {
   "cell_type": "markdown",
   "metadata": {},
   "source": [
    "### 2.1   Algorithm efficiency assessment\n",
    "In algorithm design, we pursue the following two objectives in sequence.\n",
    "\n",
    "1. **Finding a Solution** to the Problem: The algorithm should reliably find the correct solution within the stipulated range of inputs.\n",
    "2. Seeking the **Optimal Solution**: For the same problem, multiple solutions might exist, and we aim to find the most efficient algorithm possible.\n",
    "\n",
    "> i had done much issue on the crypt is finding a solution to the problem thought the computer. much time not to consider the optimal solution. So, if i consider the optimal solution, i can improve quantity of my jobs.\n",
    "\n",
    "algorithm efficiency has become the main criterion for evaluating the merits of an algorithm, which includes the following two dimensions.\n",
    "\n",
    "- **Time efficiency**: The speed at which an algorithm runs.\n",
    "- **Space efficiency**: The size of the memory space occupied by an algorithm."
   ]
  }
 ],
 "metadata": {
  "language_info": {
   "name": "python"
  }
 },
 "nbformat": 4,
 "nbformat_minor": 2
}
