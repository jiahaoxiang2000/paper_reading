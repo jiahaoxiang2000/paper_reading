{
 "cells": [
  {
   "cell_type": "markdown",
   "metadata": {},
   "source": [
    "### 1.2   What is an algorithm\n",
    "\n",
    "An algorithm is a set of instructions or steps to solve a specific problem within a finite amount of time. It has the following characteristics:\n",
    "\n",
    "- The problem is clearly defined, including unambiguous definitions of input and output.\n",
    "- The algorithm is feasible, meaning it can be completed within a finite number of steps, time, and memory space.\n",
    "- Each step has a definitive meaning. The output is consistently the same under the same inputs and conditions.\n",
    "\n",
    "> Let's use the math view to explain the algorithm. We start with the origin state and transform it to the target state using a group of operations. Our goal is to minimize the number of operations needed to achieve the target state. This process defines the algorithm."
   ]
  },
  {
   "cell_type": "markdown",
   "metadata": {
    "vscode": {
     "languageId": "plaintext"
    }
   },
   "source": [
    "#### 1.2.2   Definition of a data structure\n",
    "\n",
    "Designing data structures is a balancing act, often requiring trade-offs. If you want to improve in one aspect, you often need to compromise in another. Here is one example: Compared to arrays, linked lists offer more convenience in data addition and deletion but sacrifice data access speed.\n",
    "\n",
    "> the data structure is the form of state ."
   ]
  }
 ],
 "metadata": {
  "language_info": {
   "name": "python"
  }
 },
 "nbformat": 4,
 "nbformat_minor": 2
}
